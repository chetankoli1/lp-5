import numpy as np
import pandas as pd
from sklearn.preprocessing import MinMaxScaler
from tensorflow.keras.models import Sequential
from tensorflow.keras.layers import LSTM, Dense, Dropout

# Step 1: Data Preprocessing
dataset = pd.read_csv('google_stock_prices.csv')
training_set = dataset.iloc[:, 1:2].values

# Step 2: Feature Scaling
scaler = MinMaxScaler(feature_range=(0, 1))
scaled_training_set = scaler.fit_transform(training_set)

# Step 3: Creating Time Windows
window_size = 60
X_train = []
y_train = []

for i in range(window_size, len(training_set)):
    X_train.append(scaled_training_set[i - window_size:i, 0])
    y_train.append(scaled_training_set[i, 0])

X_train, y_train = np.array(X_train), np.array(y_train)

# Reshape input to match expected LSTM input shape [samples, time steps, features]
X_train = np.reshape(X_train, (X_train.shape[0], X_train.shape[1], 1))

# Step 4: Building the RNN model
model = Sequential()
model.add(LSTM(units=50, return_sequences=True, input_shape=(X_train.shape[1], 1)))
model.add(Dropout(0.2))
model.add(LSTM(units=50, return_sequences=True))
model.add(Dropout(0.2))
model.add(LSTM(units=50))
model.add(Dropout(0.2))
model.add(Dense(units=1))

# Step 5: Training the model
model.compile(optimizer='adam', loss='mean_squared_error')
model.fit(X_train, y_train, epochs=100, batch_size=32)

# Step 6: Model Evaluation
test_set = dataset.iloc[window_size:, 1:2].values
scaled_test_set = scaler.transform(test_set)
X_test = []
y_test = []

for i in range(window_size, len(test_set)):
    X_test.append(scaled_test_set[i - window_size:i, 0])
    y_test.append(scaled_test_set[i, 0])

X_test, y_test = np.array(X_test), np.array(y_test)
X_test = np.reshape(X_test, (X_test.shape[0], X_test.shape[1], 1))

predictions = model.predict(X_test)
predictions = scaler.inverse_transform(predictions)

# Step 8: Visualize the Results
import matplotlib.pyplot as plt

plt.plot(test_set, color='red', label='Actual Stock Prices')
plt.plot(predictions, color='blue', label='Predicted Stock Prices')
plt.title('Google Stock Prices Prediction')
plt.xlabel('Time')
plt.ylabel('Stock Price')
plt.legend()
plt.show()
