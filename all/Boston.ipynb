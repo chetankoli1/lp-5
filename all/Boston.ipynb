{
  "nbformat": 4,
  "nbformat_minor": 0,
  "metadata": {
    "colab": {
      "provenance": []
    },
    "kernelspec": {
      "name": "python3",
      "display_name": "Python 3"
    },
    "language_info": {
      "name": "python"
    }
  },
  "cells": [
    {
      "cell_type": "code",
      "execution_count": 5,
      "metadata": {
        "id": "EWZuKXs5hTne"
      },
      "outputs": [],
      "source": [
        "\n",
        "import numpy as np\n",
        "import pandas as pd\n",
        "from sklearn.model_selection import train_test_split\n",
        "from sklearn.preprocessing import StandardScaler\n",
        "from sklearn.metrics import mean_squared_error\n",
        "from tensorflow.keras.datasets import boston_housing\n",
        "import tensorflow as tf\n",
        "from tensorflow.keras.models import Sequential\n",
        "from tensorflow.keras.layers import Dense "
      ]
    },
    {
      "cell_type": "code",
      "source": [
        "# Load the Boston Housing dataset\n",
        "(X_train, y_train), (X_test, y_test) = boston_housing.load_data()\n",
        "\n",
        "# Scale the features using StandardScaler\n",
        "scaler = StandardScaler()\n",
        "X_train = scaler.fit_transform(X_train)\n",
        "X_test = scaler.transform(X_test)"
      ],
      "metadata": {
        "colab": {
          "base_uri": "https://localhost:8080/"
        },
        "id": "8JAbNvmVhfbs",
        "outputId": "41664d13-9176-4a6c-9a3d-e5dbd5c1b421"
      },
      "execution_count": 6,
      "outputs": [
        {
          "output_type": "stream",
          "name": "stdout",
          "text": [
            "Downloading data from https://storage.googleapis.com/tensorflow/tf-keras-datasets/boston_housing.npz\n",
            "57026/57026 [==============================] - 0s 0us/step\n"
          ]
        }
      ]
    },
    {
      "cell_type": "code",
      "source": [
        "model = Sequential()\n",
        "model.add(Dense(64, activation='relu', input_shape=(X_train.shape[1],)))\n",
        "model.add(Dense(64, activation='relu'))\n",
        "model.add(Dense(1))\n",
        "\n",
        "# Compile the model\n",
        "model.compile(optimizer='adam', loss='mean_squared_error')"
      ],
      "metadata": {
        "id": "z8_fn2ixibux"
      },
      "execution_count": 7,
      "outputs": []
    },
    {
      "cell_type": "code",
      "source": [
        "history = model.fit(X_train, y_train, epochs=100, batch_size=32, validation_split=0.2)"
      ],
      "metadata": {
        "colab": {
          "base_uri": "https://localhost:8080/"
        },
        "id": "nj0ZubdIibxd",
        "outputId": "9661985b-aa40-4e4b-d116-98787bec6286"
      },
      "execution_count": 9,
      "outputs": [
        {
          "output_type": "stream",
          "name": "stdout",
          "text": [
            "Epoch 1/100\n",
            "11/11 [==============================] - 0s 11ms/step - loss: 10.6937 - val_loss: 14.5665\n",
            "Epoch 2/100\n",
            "11/11 [==============================] - 0s 7ms/step - loss: 10.6083 - val_loss: 14.4546\n",
            "Epoch 3/100\n",
            "11/11 [==============================] - 0s 8ms/step - loss: 10.7723 - val_loss: 14.5597\n",
            "Epoch 4/100\n",
            "11/11 [==============================] - 0s 6ms/step - loss: 10.3266 - val_loss: 15.0099\n",
            "Epoch 5/100\n",
            "11/11 [==============================] - 0s 6ms/step - loss: 10.4682 - val_loss: 16.2255\n",
            "Epoch 6/100\n",
            "11/11 [==============================] - 0s 7ms/step - loss: 10.2169 - val_loss: 15.3804\n",
            "Epoch 7/100\n",
            "11/11 [==============================] - 0s 7ms/step - loss: 10.0964 - val_loss: 15.2102\n",
            "Epoch 8/100\n",
            "11/11 [==============================] - 0s 5ms/step - loss: 9.9455 - val_loss: 15.1795\n",
            "Epoch 9/100\n",
            "11/11 [==============================] - 0s 7ms/step - loss: 9.8035 - val_loss: 14.8643\n",
            "Epoch 10/100\n",
            "11/11 [==============================] - 0s 8ms/step - loss: 9.7094 - val_loss: 14.8898\n",
            "Epoch 11/100\n",
            "11/11 [==============================] - 0s 7ms/step - loss: 9.6212 - val_loss: 14.9528\n",
            "Epoch 12/100\n",
            "11/11 [==============================] - 0s 6ms/step - loss: 9.5277 - val_loss: 14.6652\n",
            "Epoch 13/100\n",
            "11/11 [==============================] - 0s 6ms/step - loss: 9.4836 - val_loss: 14.7418\n",
            "Epoch 14/100\n",
            "11/11 [==============================] - 0s 6ms/step - loss: 9.3644 - val_loss: 14.3731\n",
            "Epoch 15/100\n",
            "11/11 [==============================] - 0s 8ms/step - loss: 9.3752 - val_loss: 14.4453\n",
            "Epoch 16/100\n",
            "11/11 [==============================] - 0s 5ms/step - loss: 9.3954 - val_loss: 15.2459\n",
            "Epoch 17/100\n",
            "11/11 [==============================] - 0s 7ms/step - loss: 9.5060 - val_loss: 15.1760\n",
            "Epoch 18/100\n",
            "11/11 [==============================] - 0s 6ms/step - loss: 9.2576 - val_loss: 14.7577\n",
            "Epoch 19/100\n",
            "11/11 [==============================] - 0s 6ms/step - loss: 9.0465 - val_loss: 14.6185\n",
            "Epoch 20/100\n",
            "11/11 [==============================] - 0s 5ms/step - loss: 9.0535 - val_loss: 14.8018\n",
            "Epoch 21/100\n",
            "11/11 [==============================] - 0s 5ms/step - loss: 9.0255 - val_loss: 14.3132\n",
            "Epoch 22/100\n",
            "11/11 [==============================] - 0s 5ms/step - loss: 8.8638 - val_loss: 14.4727\n",
            "Epoch 23/100\n",
            "11/11 [==============================] - 0s 7ms/step - loss: 8.8279 - val_loss: 14.4692\n",
            "Epoch 24/100\n",
            "11/11 [==============================] - 0s 6ms/step - loss: 8.7875 - val_loss: 14.0828\n",
            "Epoch 25/100\n",
            "11/11 [==============================] - 0s 6ms/step - loss: 8.6805 - val_loss: 14.3341\n",
            "Epoch 26/100\n",
            "11/11 [==============================] - 0s 5ms/step - loss: 8.6642 - val_loss: 14.0062\n",
            "Epoch 27/100\n",
            "11/11 [==============================] - 0s 5ms/step - loss: 8.6006 - val_loss: 14.2452\n",
            "Epoch 28/100\n",
            "11/11 [==============================] - 0s 7ms/step - loss: 8.5567 - val_loss: 14.3143\n",
            "Epoch 29/100\n",
            "11/11 [==============================] - 0s 7ms/step - loss: 8.4268 - val_loss: 14.0758\n",
            "Epoch 30/100\n",
            "11/11 [==============================] - 0s 7ms/step - loss: 8.3931 - val_loss: 14.2691\n",
            "Epoch 31/100\n",
            "11/11 [==============================] - 0s 6ms/step - loss: 8.3191 - val_loss: 14.4777\n",
            "Epoch 32/100\n",
            "11/11 [==============================] - 0s 7ms/step - loss: 8.2798 - val_loss: 14.5252\n",
            "Epoch 33/100\n",
            "11/11 [==============================] - 0s 7ms/step - loss: 8.2147 - val_loss: 14.6203\n",
            "Epoch 34/100\n",
            "11/11 [==============================] - 0s 7ms/step - loss: 8.1703 - val_loss: 14.4217\n",
            "Epoch 35/100\n",
            "11/11 [==============================] - 0s 6ms/step - loss: 8.1145 - val_loss: 14.6093\n",
            "Epoch 36/100\n",
            "11/11 [==============================] - 0s 5ms/step - loss: 8.0786 - val_loss: 14.3081\n",
            "Epoch 37/100\n",
            "11/11 [==============================] - 0s 6ms/step - loss: 7.9963 - val_loss: 14.3080\n",
            "Epoch 38/100\n",
            "11/11 [==============================] - 0s 7ms/step - loss: 7.9895 - val_loss: 14.4911\n",
            "Epoch 39/100\n",
            "11/11 [==============================] - 0s 7ms/step - loss: 7.8655 - val_loss: 14.3396\n",
            "Epoch 40/100\n",
            "11/11 [==============================] - 0s 6ms/step - loss: 7.9556 - val_loss: 13.9865\n",
            "Epoch 41/100\n",
            "11/11 [==============================] - 0s 5ms/step - loss: 7.7329 - val_loss: 14.4866\n",
            "Epoch 42/100\n",
            "11/11 [==============================] - 0s 6ms/step - loss: 7.7554 - val_loss: 14.5448\n",
            "Epoch 43/100\n",
            "11/11 [==============================] - 0s 6ms/step - loss: 7.6939 - val_loss: 14.7020\n",
            "Epoch 44/100\n",
            "11/11 [==============================] - 0s 6ms/step - loss: 7.6966 - val_loss: 14.5698\n",
            "Epoch 45/100\n",
            "11/11 [==============================] - 0s 6ms/step - loss: 7.5640 - val_loss: 14.1876\n",
            "Epoch 46/100\n",
            "11/11 [==============================] - 0s 7ms/step - loss: 7.7072 - val_loss: 14.7281\n",
            "Epoch 47/100\n",
            "11/11 [==============================] - 0s 7ms/step - loss: 7.5486 - val_loss: 14.2721\n",
            "Epoch 48/100\n",
            "11/11 [==============================] - 0s 6ms/step - loss: 7.4761 - val_loss: 14.3029\n",
            "Epoch 49/100\n",
            "11/11 [==============================] - 0s 6ms/step - loss: 7.5099 - val_loss: 14.2871\n",
            "Epoch 50/100\n",
            "11/11 [==============================] - 0s 7ms/step - loss: 7.4094 - val_loss: 14.5027\n",
            "Epoch 51/100\n",
            "11/11 [==============================] - 0s 9ms/step - loss: 7.7701 - val_loss: 15.6186\n",
            "Epoch 52/100\n",
            "11/11 [==============================] - 0s 8ms/step - loss: 7.4167 - val_loss: 14.7534\n",
            "Epoch 53/100\n",
            "11/11 [==============================] - 0s 8ms/step - loss: 7.3693 - val_loss: 14.7206\n",
            "Epoch 54/100\n",
            "11/11 [==============================] - 0s 8ms/step - loss: 7.2410 - val_loss: 14.8145\n",
            "Epoch 55/100\n",
            "11/11 [==============================] - 0s 7ms/step - loss: 7.1454 - val_loss: 14.5208\n",
            "Epoch 56/100\n",
            "11/11 [==============================] - 0s 6ms/step - loss: 7.2745 - val_loss: 14.5494\n",
            "Epoch 57/100\n",
            "11/11 [==============================] - 0s 7ms/step - loss: 7.0978 - val_loss: 14.6887\n",
            "Epoch 58/100\n",
            "11/11 [==============================] - 0s 6ms/step - loss: 7.0036 - val_loss: 14.5134\n",
            "Epoch 59/100\n",
            "11/11 [==============================] - 0s 6ms/step - loss: 6.9555 - val_loss: 14.6122\n",
            "Epoch 60/100\n",
            "11/11 [==============================] - 0s 6ms/step - loss: 6.9410 - val_loss: 14.8508\n",
            "Epoch 61/100\n",
            "11/11 [==============================] - 0s 6ms/step - loss: 6.8928 - val_loss: 14.4205\n",
            "Epoch 62/100\n",
            "11/11 [==============================] - 0s 10ms/step - loss: 6.8332 - val_loss: 14.3279\n",
            "Epoch 63/100\n",
            "11/11 [==============================] - 0s 13ms/step - loss: 6.8221 - val_loss: 14.6644\n",
            "Epoch 64/100\n",
            "11/11 [==============================] - 0s 10ms/step - loss: 6.8288 - val_loss: 14.5884\n",
            "Epoch 65/100\n",
            "11/11 [==============================] - 0s 8ms/step - loss: 6.7243 - val_loss: 14.8334\n",
            "Epoch 66/100\n",
            "11/11 [==============================] - 0s 9ms/step - loss: 6.6210 - val_loss: 14.8893\n",
            "Epoch 67/100\n",
            "11/11 [==============================] - 0s 7ms/step - loss: 6.5880 - val_loss: 14.6069\n",
            "Epoch 68/100\n",
            "11/11 [==============================] - 0s 9ms/step - loss: 6.5975 - val_loss: 14.5188\n",
            "Epoch 69/100\n",
            "11/11 [==============================] - 0s 7ms/step - loss: 6.6728 - val_loss: 14.3074\n",
            "Epoch 70/100\n",
            "11/11 [==============================] - 0s 7ms/step - loss: 6.6433 - val_loss: 14.9835\n",
            "Epoch 71/100\n",
            "11/11 [==============================] - 0s 7ms/step - loss: 6.5191 - val_loss: 14.8297\n",
            "Epoch 72/100\n",
            "11/11 [==============================] - 0s 9ms/step - loss: 6.4828 - val_loss: 14.5402\n",
            "Epoch 73/100\n",
            "11/11 [==============================] - 0s 11ms/step - loss: 6.4704 - val_loss: 15.1793\n",
            "Epoch 74/100\n",
            "11/11 [==============================] - 0s 9ms/step - loss: 6.6149 - val_loss: 15.4679\n",
            "Epoch 75/100\n",
            "11/11 [==============================] - 0s 7ms/step - loss: 6.3804 - val_loss: 14.6097\n",
            "Epoch 76/100\n",
            "11/11 [==============================] - 0s 8ms/step - loss: 6.5356 - val_loss: 14.7210\n",
            "Epoch 77/100\n",
            "11/11 [==============================] - 0s 9ms/step - loss: 6.3689 - val_loss: 15.3804\n",
            "Epoch 78/100\n",
            "11/11 [==============================] - 0s 12ms/step - loss: 6.3670 - val_loss: 14.9306\n",
            "Epoch 79/100\n",
            "11/11 [==============================] - 0s 9ms/step - loss: 6.1914 - val_loss: 15.2573\n",
            "Epoch 80/100\n",
            "11/11 [==============================] - 0s 10ms/step - loss: 6.2039 - val_loss: 15.0773\n",
            "Epoch 81/100\n",
            "11/11 [==============================] - 0s 9ms/step - loss: 6.1644 - val_loss: 15.0935\n",
            "Epoch 82/100\n",
            "11/11 [==============================] - 0s 10ms/step - loss: 6.0787 - val_loss: 15.0168\n",
            "Epoch 83/100\n",
            "11/11 [==============================] - 0s 12ms/step - loss: 6.0438 - val_loss: 15.0567\n",
            "Epoch 84/100\n",
            "11/11 [==============================] - 0s 10ms/step - loss: 6.0071 - val_loss: 14.8946\n",
            "Epoch 85/100\n",
            "11/11 [==============================] - 0s 10ms/step - loss: 6.1097 - val_loss: 14.4401\n",
            "Epoch 86/100\n",
            "11/11 [==============================] - 0s 9ms/step - loss: 5.9787 - val_loss: 15.0317\n",
            "Epoch 87/100\n",
            "11/11 [==============================] - 0s 9ms/step - loss: 5.9432 - val_loss: 15.1922\n",
            "Epoch 88/100\n",
            "11/11 [==============================] - 0s 9ms/step - loss: 5.9447 - val_loss: 15.4086\n",
            "Epoch 89/100\n",
            "11/11 [==============================] - 0s 7ms/step - loss: 6.2519 - val_loss: 16.6322\n",
            "Epoch 90/100\n",
            "11/11 [==============================] - 0s 5ms/step - loss: 5.8594 - val_loss: 15.5333\n",
            "Epoch 91/100\n",
            "11/11 [==============================] - 0s 7ms/step - loss: 6.1686 - val_loss: 15.4680\n",
            "Epoch 92/100\n",
            "11/11 [==============================] - 0s 5ms/step - loss: 5.9269 - val_loss: 15.5978\n",
            "Epoch 93/100\n",
            "11/11 [==============================] - 0s 6ms/step - loss: 6.1333 - val_loss: 14.9919\n",
            "Epoch 94/100\n",
            "11/11 [==============================] - 0s 5ms/step - loss: 5.8625 - val_loss: 15.5063\n",
            "Epoch 95/100\n",
            "11/11 [==============================] - 0s 5ms/step - loss: 5.6644 - val_loss: 15.6349\n",
            "Epoch 96/100\n",
            "11/11 [==============================] - 0s 6ms/step - loss: 5.6900 - val_loss: 15.7015\n",
            "Epoch 97/100\n",
            "11/11 [==============================] - 0s 7ms/step - loss: 5.6975 - val_loss: 15.7063\n",
            "Epoch 98/100\n",
            "11/11 [==============================] - 0s 7ms/step - loss: 5.5291 - val_loss: 15.4333\n",
            "Epoch 99/100\n",
            "11/11 [==============================] - 0s 5ms/step - loss: 5.6035 - val_loss: 15.5102\n",
            "Epoch 100/100\n",
            "11/11 [==============================] - 0s 8ms/step - loss: 5.4736 - val_loss: 15.6626\n"
          ]
        }
      ]
    },
    {
      "cell_type": "code",
      "source": [
        "# Make predictions on the test set\n",
        "y_pred = model.predict(X_test)\n",
        "\n",
        "# Calculate the mean squared error\n",
        "mse = mean_squared_error(y_test, y_pred)\n",
        "print(\"Mean Squared Error:\", mse)"
      ],
      "metadata": {
        "colab": {
          "base_uri": "https://localhost:8080/"
        },
        "id": "YO7ip0_Qib0J",
        "outputId": "916db57d-f87a-4c7d-ebd7-4a1734e339a4"
      },
      "execution_count": 10,
      "outputs": [
        {
          "output_type": "stream",
          "name": "stdout",
          "text": [
            "4/4 [==============================] - 0s 3ms/step\n",
            "Mean Squared Error: 20.206852111254484\n"
          ]
        }
      ]
    },
    {
      "cell_type": "code",
      "source": [],
      "metadata": {
        "id": "REwUJJ74ib20"
      },
      "execution_count": null,
      "outputs": []
    },
    {
      "cell_type": "code",
      "source": [],
      "metadata": {
        "id": "zlMlgGynib6U"
      },
      "execution_count": null,
      "outputs": []
    },
    {
      "cell_type": "code",
      "source": [],
      "metadata": {
        "id": "M2Q9ami1ib9l"
      },
      "execution_count": null,
      "outputs": []
    },
    {
      "cell_type": "code",
      "source": [],
      "metadata": {
        "id": "NFp56-30ib__"
      },
      "execution_count": null,
      "outputs": []
    }
  ]
}